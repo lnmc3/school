{
 "cells": [
  {
   "cell_type": "code",
   "execution_count": null,
   "metadata": {},
   "outputs": [],
   "source": [
    "import numpy as np\n",
    "import matplotlib.pyplot as plt\n",
    "import scipy.optimize as opt\n",
    "from uncertainties import ufloat, unumpy"
   ]
  },
  {
   "cell_type": "markdown",
   "metadata": {},
   "source": [
    "## Beam Diameter"
   ]
  },
  {
   "cell_type": "markdown",
   "metadata": {},
   "source": [
    "### P(x) vs. x Graph"
   ]
  },
  {
   "cell_type": "code",
   "execution_count": 28,
   "metadata": {},
   "outputs": [
    {
     "data": {
      "image/png": "[encoded data removed]",
      "text/plain": [
       "<Figure size 640x480 with 1 Axes>"
      ]
     },
     "metadata": {},
     "output_type": "display_data"
    }
   ],
   "source": [
    "power = np.array([674, 655, 607, 566, 518, 452, 388, 319, 249, 234, 173, 115, 72.6, 43.6, 26.9, 18.0, 13.0, 10.2, 7.97, 6.48, 5.33, 4.47, 3.51, 2.76, 2.25, 1.87, 1.51, 1.13, \n",
    "                0.90, 0.79, 0.66, 0.58, 0.51, 0.47, 0.46, 0.44, 0.41, 0.40, 0.38, 0.36])\n",
    "position_1 = np.arange(0,0.30,0.10)\n",
    "position_2 = np.arange(0.25,2.10,0.05)\n",
    "position = np.append(position_1, position_2)\n",
    "power_err = power * 0.01\n",
    "position_err = np.full(40, 0.001)\n",
    "\n",
    "plt.title(r\"P(x) vs. x\")\n",
    "plt.xlabel(r\"Razor Blade Position (mm)\")\n",
    "plt.ylabel(r\"Power ($\\mu$W)\")\n",
    "plt.errorbar(position, power, power_err, position_err, \n",
    "            color = 'blue', marker = '.', markersize = 3, \n",
    "            markerfacecolor = 'None', linestyle = 'None', \n",
    "            ecolor = \"blue\", elinewidth=1, capsize=2)\n",
    "plt.show()\n",
    "\n"
   ]
  },
  {
   "cell_type": "markdown",
   "metadata": {},
   "source": [
    "### Beam Diameter"
   ]
  },
  {
   "cell_type": "code",
   "execution_count": 26,
   "metadata": {},
   "outputs": [
    {
     "name": "stdout",
     "output_type": "stream",
     "text": [
      "The observed beam diameter is 1.0250+/-0.0007\n",
      "The actual beam diameter is 0.8\n",
      "The Percent Error is 28.12%\n"
     ]
    }
   ],
   "source": [
    "R_max = unumpy.uarray(position[np.argmax(power)], position_err[np.argmax(power)]) #Get razor blade position when the power is at its maximum and its uncertainty\n",
    "R_min = unumpy.uarray(position[np.argmin(power)], position_err[np.argmin(power)]) #Get razor blade position when the power is at its minimum and its uncertainty\n",
    "R_actual = 0.80\n",
    "\n",
    "R = np.abs((R_max - R_min)) / 2 #Beam Diameter Formula\n",
    "Perc_err = (np.abs(R_actual - R.n) / R_actual) * 100\n",
    "\n",
    "print(\"The observed beam diameter is\", R)\n",
    "print(\"The actual beam diameter is\", R_actual)\n",
    "print(\"The Percent Error is {:.2f}%\".format(Perc_err))"
   ]
  },
  {
   "cell_type": "markdown",
   "metadata": {},
   "source": [
    "### Total Beam Power"
   ]
  },
  {
   "cell_type": "code",
   "execution_count": 27,
   "metadata": {},
   "outputs": [
    {
     "name": "stdout",
     "output_type": "stream",
     "text": [
      "The total beam power is 674+/-7\n"
     ]
    }
   ],
   "source": [
    "P_max = unumpy.uarray(np.max(power), np.max(power_err))\n",
    "P_min = unumpy.uarray(np.min(power), np.min(power_err))\n",
    "\n",
    "P_total = P_max - P_min\n",
    "print(\"The total beam power is\", P_total)"
   ]
  },
  {
   "cell_type": "markdown",
   "metadata": {},
   "source": [
    "### Intensity Equation "
   ]
  },
  {
   "cell_type": "code",
   "execution_count": 20,
   "metadata": {},
   "outputs": [
    {
     "name": "stdout",
     "output_type": "stream",
     "text": [
      "I = (408+/-4) * e^((x^2 + y^2)/(1.0250+/-0.0007)^2)\n"
     ]
    }
   ],
   "source": [
    "I_o = (2 / (np.pi * (R)**2)) * P_total\n",
    "\n",
    "print(\"I = ({}) * e^((x^2 + y^2)/({})^2)\".format(I_o, R))"
   ]
  }
 ],
 "metadata": {
  "kernelspec": {
   "display_name": "Python 3.9.13 ('base')",
   "language": "python",
   "name": "python3"
  },
  "language_info": {
   "codemirror_mode": {
    "name": "ipython",
    "version": 3
   },
   "file_extension": ".py",
   "mimetype": "text/x-python",
   "name": "python",
   "nbconvert_exporter": "python",
   "pygments_lexer": "ipython3",
   "version": "3.9.13"
  },
  "orig_nbformat": 4,
  "vscode": {
   "interpreter": {
    "hash": "90425196080d3872eb45006ca5618c1edffd1daf3c8f844b64251cd837b5e648"
   }
  }
 },
 "nbformat": 4,
 "nbformat_minor": 2
}
