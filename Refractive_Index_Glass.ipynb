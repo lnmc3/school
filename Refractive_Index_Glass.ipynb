{
 "cells": [
  {
   "cell_type": "code",
   "execution_count": 58,
   "metadata": {},
   "outputs": [
    {
     "name": "stdout",
     "output_type": "stream",
     "text": [
      "1.535+/-0.030 1.5354690258615666 0.02994220308243799\n",
      "0.17475109135593225 0.0006170670747442177\n"
     ]
    }
   ],
   "source": [
    "from uncertainties import ufloat, unumpy\n",
    "import uncertainties\n",
    "import numpy as np\n",
    "\n",
    "##GET SLOPE AND SLOPE UNCERTAINTY FOR N = 5##\n",
    "\n",
    "#Initialize Angular Displacement with their Uncertainties\n",
    "\n",
    "angular_measurement = np.array([10.1, 10.0, 10.0, 10.0, 10.0, 10.0, 10.0, 10.0])\n",
    "angular_measurement_unc = np.array([0.1, 0.1, 0.1, 0.1, 0.1, 0.1, 0.1, 0.1])\n",
    "\n",
    "angular_measurement_arr = unumpy.uarray(angular_measurement, angular_measurement_unc)\n",
    "\n",
    "#Get Weighted Average of Angular Displacenent\n",
    "angular_displacement_best = unumpy.nominal_values(angular_measurement_arr)\n",
    "angular_displacement_unc = unumpy.std_devs(angular_measurement_arr)\n",
    "\n",
    "numerators_angular_displacement = []\n",
    "denominators_angular_displacement = []\n",
    "\n",
    "for i in np.arange(len(angular_measurement_arr)):\n",
    "    weight_angular_displacement= 1 / (angular_displacement_unc[i])**2\n",
    "    denominators_angular_displacement.append(weight_angular_displacement)\n",
    "\n",
    "    numerator_angular_displacement = weight_angular_displacement * angular_displacement_best[i]\n",
    "    numerators_angular_displacement.append(numerator_angular_displacement)\n",
    "\n",
    "angular_displacement_wav = sum(numerators_angular_displacement) / sum(denominators_angular_displacement) #This is the weighted average of the Angular Displacement\n",
    "\n",
    "#Get Uncertainty of the Weighted Average of Angular Displacement\n",
    "angular_displacement_wav_unc = 1 / np.sqrt(sum(denominators_angular_displacement)) \n",
    "\n",
    "#Convert to Radians\n",
    "angular_displacement_wav_radians = angular_displacement_wav * (np.pi/180)\n",
    "angular_displacement_wav_unc_radians = angular_displacement_wav_unc * (np.pi/180)\n",
    "\n",
    "#Initialize Fringe Count & Fringe Count Uncertainty\n",
    "# N_measurement = np.array([125, 115, 118, 117, 110, 118, 117, 119])\n",
    "N_measurement = np.array([100, 94, 97, 96, 108, 104, 99, 98])\n",
    "N_measurement_unc = []\n",
    "\n",
    "for i in np.arange(len(N_measurement)):\n",
    "    N_unc = np.sqrt(N_measurement[i])\n",
    "    N_measurement_unc.append(N_unc)\n",
    "\n",
    "N_measurement_unc = np.array(N_measurement_unc)\n",
    "\n",
    "N_arr= unumpy.uarray(N_measurement, N_measurement_unc)\n",
    "\n",
    "#Get Weighted Average of N\n",
    "N_best = unumpy.nominal_values(N_arr)\n",
    "N_unc = unumpy.std_devs(N_arr)\n",
    "\n",
    "numerators_N = []\n",
    "denominators_N = []\n",
    "\n",
    "for i in np.arange(len(N_arr)):\n",
    "    weight_N = 1 / ((N_unc[i])**2)\n",
    "    denominators_N.append(weight_N)\n",
    "\n",
    "    numerator_N = weight_N * N_best[i]\n",
    "    numerators_N.append(numerator_N)\n",
    "\n",
    "N_wav = sum(numerators_N) / sum(denominators_N) #This is the weighted average of N\n",
    "\n",
    "#Get Uncertainty of the Weighted Average of N\n",
    "N_wav_unc = 1 / np.sqrt(sum(denominators_N)) \n",
    "\n",
    "#Calculate the Index of Refraction of Glass & its Uncertainty\n",
    "N = ufloat(N_wav, N_wav_unc)\n",
    "angular_displacement_radians= ufloat(angular_displacement_wav_radians, angular_displacement_wav_unc_radians)\n",
    "t = ufloat(5.86e-3, 0.01e-3)\n",
    "wavelength_vacuum= 0.632991e-6\n",
    "\n",
    "n_g = (((2*t) - (N*wavelength_vacuum))*(1-(unumpy.cos(angular_displacement_radians)))) / ((2*t)*(1-(unumpy.cos(angular_displacement_radians)))-(N*wavelength_vacuum))\n",
    "\n",
    "print(n_g, n_g.n, n_g.s)\n",
    "print(angular_displacement_wav_radians, angular_displacement_wav_unc_radians)"
   ]
  }
 ],
 "metadata": {
  "kernelspec": {
   "display_name": "Python 3.9.13 ('base')",
   "language": "python",
   "name": "python3"
  },
  "language_info": {
   "codemirror_mode": {
    "name": "ipython",
    "version": 3
   },
   "file_extension": ".py",
   "mimetype": "text/x-python",
   "name": "python",
   "nbconvert_exporter": "python",
   "pygments_lexer": "ipython3",
   "version": "3.9.13"
  },
  "orig_nbformat": 4,
  "vscode": {
   "interpreter": {
    "hash": "90425196080d3872eb45006ca5618c1edffd1daf3c8f844b64251cd837b5e648"
   }
  }
 },
 "nbformat": 4,
 "nbformat_minor": 2
}
